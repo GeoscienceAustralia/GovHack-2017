{
 "cells": [
  {
   "cell_type": "markdown",
   "metadata": {},
   "source": [
    "Welcome to getting started with earthquake data! Below is a quick example of importing modules, reading the csv file, displalying the data, slicing the data, and plotting the data! Check out the pandas and matplotlib documentation (or whatever you would like to use) to go further with the data. The rest is up to you!\n",
    "\n",
    "The pandas module is a python data analysis library - http://pandas.pydata.org/\n",
    "\n",
    "matplotlib is a python plotting library great for visualising and presenting data - https://matplotlib.org/\n",
    "\n",
    "Also check out the jupyter notebook help."
   ]
  },
  {
   "cell_type": "code",
   "execution_count": 1,
   "metadata": {
    "collapsed": true
   },
   "outputs": [],
   "source": [
    "import matplotlib.pylab as plt\n",
    "import pandas"
   ]
  },
  {
   "cell_type": "markdown",
   "metadata": {},
   "source": [
    "Create a pandas dataframe from the csv file."
   ]
  },
  {
   "cell_type": "code",
   "execution_count": 2,
   "metadata": {
    "collapsed": true
   },
   "outputs": [],
   "source": [
    "df = pandas.read_csv(\"enter the path name to the csv here!\")"
   ]
  },
  {
   "cell_type": "raw",
   "metadata": {},
   "source": [
    "Print the entire dataframe to output."
   ]
  },
  {
   "cell_type": "code",
   "execution_count": 3,
   "metadata": {
    "collapsed": false
   },
   "outputs": [
    {
     "name": "stdout",
     "output_type": "stream",
     "text": [
      "      Magnitude    UTC Date  UTC Time Sydney Date Sydney Time  Latitude  \\\n",
      "0           2.4  2017-06-14  11:30:08  2017-06-14    21:30:08   -31.348   \n",
      "1           2.6  2017-06-12  19:56:38  2017-06-13    05:56:38   -34.956   \n",
      "2           2.8  2017-06-12  09:11:37  2017-06-12    19:11:37   -25.834   \n",
      "3           2.0  2017-06-12  08:53:14  2017-06-12    18:53:14   -33.957   \n",
      "4           2.8  2017-06-09  18:04:23  2017-06-10    04:04:23   -22.153   \n",
      "5           3.8  2017-06-09  17:16:15  2017-06-10    03:16:15   -22.315   \n",
      "6           2.0  2017-06-08  12:26:32  2017-06-08    22:26:32   -34.643   \n",
      "7           2.5  2017-06-07  15:46:30  2017-06-08    01:46:30   -40.530   \n",
      "8           3.2  2017-06-07  09:46:42  2017-06-07    19:46:42   -19.835   \n",
      "9           2.2  2017-06-06  17:27:36  2017-06-07    03:27:36   -30.843   \n",
      "10          2.2  2017-06-06  13:45:38  2017-06-06    23:45:38   -42.164   \n",
      "11          2.2  2017-06-05  22:08:02  2017-06-06    08:08:02   -30.760   \n",
      "12          2.3  2017-06-05  22:03:39  2017-06-06    08:03:39   -30.753   \n",
      "13          2.2  2017-06-05  17:25:01  2017-06-06    03:25:01   -30.799   \n",
      "14          2.4  2017-06-05  17:22:29  2017-06-06    03:22:29   -30.786   \n",
      "15          2.4  2017-06-05  17:18:01  2017-06-06    03:18:01   -30.791   \n",
      "16          2.2  2017-06-05  16:15:02  2017-06-06    02:15:02   -30.762   \n",
      "17          2.0  2017-06-05  15:19:53  2017-06-06    01:19:53   -30.826   \n",
      "18          2.2  2017-06-05  11:16:16  2017-06-05    21:16:16   -37.867   \n",
      "19          2.2  2017-06-05  11:15:12  2017-06-05    21:15:12   -30.786   \n",
      "20          2.2  2017-06-05  10:20:42  2017-06-05    20:20:42   -30.792   \n",
      "21          2.9  2017-06-05  09:11:03  2017-06-05    19:11:03   -30.752   \n",
      "22          2.4  2017-06-04  17:36:47  2017-06-05    03:36:47   -37.925   \n",
      "23          1.9  2017-06-03  23:16:34  2017-06-04    09:16:34   -30.789   \n",
      "24          2.6  2017-06-03  19:56:52  2017-06-04    05:56:52   -33.228   \n",
      "25          2.0  2017-06-03  08:17:43  2017-06-03    18:17:43   -33.954   \n",
      "26          1.8  2017-06-03  07:50:30  2017-06-03    17:50:30   -30.842   \n",
      "27          2.5  2017-06-03  07:33:32  2017-06-03    17:33:32   -30.808   \n",
      "28          2.1  2017-06-02  17:34:51  2017-06-03    03:34:51   -32.064   \n",
      "29          1.9  2017-06-01  16:49:33  2017-06-02    02:49:33   -30.866   \n",
      "...         ...         ...       ...         ...         ...       ...   \n",
      "1158        1.8  2015-07-04  08:51:01  2015-07-04    18:51:01   -31.473   \n",
      "1159        2.1  2015-07-04  06:38:49  2015-07-04    16:38:49   -33.137   \n",
      "1160        2.1  2015-07-03  12:11:52  2015-07-03    22:11:52   -33.876   \n",
      "1161        2.2  2015-07-02  10:00:07  2015-07-02    20:00:07   -31.773   \n",
      "1162        2.3  2015-07-02  09:53:22  2015-07-02    19:53:22   -32.429   \n",
      "1163        2.4  2015-07-01  23:38:04  2015-07-02    09:38:04   -37.284   \n",
      "1164        2.4  2015-07-01  21:16:48  2015-07-02    07:16:48   -37.227   \n",
      "1165        1.7  2015-06-30  22:50:40  2015-07-01    08:50:40   -36.264   \n",
      "1166        2.0  2015-06-30  18:48:55  2015-07-01    04:48:55   -34.077   \n",
      "1167        2.1  2015-06-30  17:40:59  2015-07-01    03:40:59   -34.081   \n",
      "1168        2.2  2015-06-29  18:08:12  2015-06-30    04:08:12   -31.696   \n",
      "1169        2.4  2015-06-26  19:30:09  2015-06-27    05:30:09   -31.706   \n",
      "1170        2.0  2015-06-26  00:56:15  2015-06-26    10:56:15   -31.435   \n",
      "1171        1.9  2015-06-25  22:17:11  2015-06-26    08:17:11   -31.440   \n",
      "1172        2.1  2015-06-25  21:25:22  2015-06-26    07:25:22   -31.423   \n",
      "1173        2.0  2015-06-25  11:27:17  2015-06-25    21:27:17   -31.431   \n",
      "1174        1.8  2015-06-25  10:20:20  2015-06-25    20:20:20   -31.446   \n",
      "1175        2.8  2015-06-25  07:29:32  2015-06-25    17:29:32   -27.039   \n",
      "1176        2.5  2015-06-25  06:28:46  2015-06-25    16:28:46   -32.833   \n",
      "1177        2.4  2015-06-23  11:05:55  2015-06-23    21:05:55   -33.155   \n",
      "1178        2.9  2015-06-23  07:10:18  2015-06-23    17:10:18   -25.042   \n",
      "1179        2.8  2015-06-22  12:58:47  2015-06-22    22:58:47   -33.209   \n",
      "1180        2.7  2015-06-22  12:13:26  2015-06-22    22:13:26   -33.109   \n",
      "1181        2.7  2015-06-22  05:06:27  2015-06-22    15:06:27   -29.785   \n",
      "1182        2.3  2015-06-21  18:46:34  2015-06-22    04:46:34   -31.984   \n",
      "1183        2.7  2015-06-19  22:10:07  2015-06-20    08:10:07   -33.459   \n",
      "1184        2.3  2015-06-19  12:34:47  2015-06-19    22:34:47   -35.851   \n",
      "1185        1.7  2015-06-19  03:07:22  2015-06-19    13:07:22   -33.270   \n",
      "1186        2.2  2015-06-19  02:32:23  2015-06-19    12:32:23   -30.312   \n",
      "1187        2.6  2015-06-16  04:11:31  2015-06-16    14:11:31   -31.341   \n",
      "\n",
      "      Longitude                      Approximate location  Depth (km)  \\\n",
      "0       138.621                         S of Blinman, SA.        10.0   \n",
      "1       144.593          SW of Hay, NSW. (Reported felt).        10.0   \n",
      "2       137.631                NW of Poeppels Corner, NT.        10.0   \n",
      "3       139.373                         NW of Morgan, SA.        10.0   \n",
      "4       121.019                         SW of Telfer, WA.        10.0   \n",
      "5       121.139                         SW of Telfer, WA.        10.0   \n",
      "6       148.030                         Cootamundra, NSW.        10.0   \n",
      "7       145.024              Offshore N of Smithton, TAS.        10.0   \n",
      "8       134.041                  SW of Tennant Creek, NT.        10.0   \n",
      "9       119.154                      NE of Bullfinch, WA.        10.0   \n",
      "10      147.286                      NW of Oatlands, TAS.        10.0   \n",
      "11      118.023                     NW of Mukinbudin, WA.        10.0   \n",
      "12      118.082                     NW of Mukinbudin, WA.        10.0   \n",
      "13      117.937                     NW of Mukinbudin, WA.        10.0   \n",
      "14      117.981                     NW of Mukinbudin, WA.        10.0   \n",
      "15      118.006                     NW of Mukinbudin, WA.        10.0   \n",
      "16      118.015                     NW of Mukinbudin, WA.        10.0   \n",
      "17      117.932                     NW of Mukinbudin, WA.        10.0   \n",
      "18      145.505  Macclesfield area, VIC. (Reported felt).        10.0   \n",
      "19      117.963                     NW of Mukinbudin, WA.        10.0   \n",
      "20      117.972                     NW of Mukinbudin, WA.        10.0   \n",
      "21      118.050                     NW of Mukinbudin, WA.        10.0   \n",
      "22      148.498                Offshore S of Orbost, VIC.        10.0   \n",
      "23      117.998                     NW of Mukinbudin, WA.        10.0   \n",
      "24      119.083                      South Newdegate, WA.        10.0   \n",
      "25      148.249                       Near Grenfell, NSW.        10.0   \n",
      "26      117.910                     NW of Mukinbudin, WA.        10.0   \n",
      "27      119.169                    SE of Bonnie Rock, WA.        10.0   \n",
      "28      117.721                     SE of Quairading, WA.        10.0   \n",
      "29      117.062                      Near Manmanning, WA.        10.0   \n",
      "...         ...                                       ...         ...   \n",
      "1158    117.586                   NW of Kellerberrin, WA.         6.0   \n",
      "1159    138.288                           Near Laura, SA.         9.0   \n",
      "1160    139.084                           E of Clare, SA.         9.0   \n",
      "1161    139.437                          E of Hawker, SA.         9.0   \n",
      "1162    138.523                         N of Orroroo, SA.        10.0   \n",
      "1163    150.486                 Offshore SE of Eden, NSW.         9.0   \n",
      "1164    150.442                 Offshore SE of Eden, NSW.         1.0   \n",
      "1165    148.860                      N of Berridale, NSW.         2.0   \n",
      "1166    135.698                        Near Yeelanna, SA.         0.0   \n",
      "1167    135.633                        Near Yeelanna, SA.         0.0   \n",
      "1168    138.039                         NW of Hawker, SA.        10.0   \n",
      "1169    116.989                       Near Meckering, WA.        14.0   \n",
      "1170    117.476                   NW of Kellerberrin, WA.         6.0   \n",
      "1171    117.469                   NW of Kellerberrin, WA.         5.0   \n",
      "1172    117.488                   NW of Kellerberrin, WA.        10.0   \n",
      "1173    117.481                   NW of Kellerberrin, WA.         5.0   \n",
      "1174    117.466                   NW of Kellerberrin, WA.         4.0   \n",
      "1175    152.382                        SW of Kilcoy, QLD.        10.0   \n",
      "1176    138.682                         Near Orroroo, SA.         0.0   \n",
      "1177    138.642                       Near Jamestown, SA.         0.0   \n",
      "1178    151.463                         SE of Monto, QLD.         0.0   \n",
      "1179    119.190                      SE of Newdegate, WA.         0.0   \n",
      "1180    119.030                            Newdegate, WA.        12.0   \n",
      "1181    137.906                         SW of Marree, SA.        10.0   \n",
      "1182    138.677                         SE of Hawker, SA.        10.0   \n",
      "1183    136.708                          NE of Cleve, SA.        10.0   \n",
      "1184    138.105                      Kangaroo Island, SA.        11.0   \n",
      "1185    138.314                       Near Gladstone, SA.         0.0   \n",
      "1186    117.681                         NW of Beacon, WA.        11.0   \n",
      "1187    138.668                   N of Wilpena Pound, SA.        10.0   \n",
      "\n",
      "     Solution finalised Mb    ML Location algorithm Nearest station  EVENT ID  \\\n",
      "0                  FINL  -  2.41      locsat:iasp91            NAPP   1311775   \n",
      "1                  FINL  -  2.56      locsat:iasp91            BRAT   1310764   \n",
      "2                  FINL  -  2.76      locsat:iasp91             NaN   1311295   \n",
      "3                  FINL  -  1.97      locsat:iasp91             HTT   1311294   \n",
      "4                  FINL  -  2.83      locsat:iasp91           PSA00   1311233   \n",
      "5                  FINL  -  3.78      locsat:iasp91           PSA00   1309635   \n",
      "6                  FINL  -  2.02      locsat:iasp91             NaN   1309471   \n",
      "7                  FINL  -  2.53      locsat:iasp91             NaN   1309167   \n",
      "8                  FINL  -  3.19      locsat:iasp91             NaN   1308945   \n",
      "9                  FINL  -  2.24      locsat:iasp91            KLBR   1308850   \n",
      "10                 FINL  -  2.15      locsat:iasp91             NaN   1308828   \n",
      "11                 FINL  -  2.15      locsat:iasp91            KLBR   1308596   \n",
      "12                 FINL  -  2.27      locsat:iasp91             NaN   1308591   \n",
      "13                 FINL  -  2.22      locsat:iasp91            KLBR   1308586   \n",
      "14                 FINL  -  2.35      locsat:iasp91            KLBR   1308585   \n",
      "15                 FINL  -  2.42      locsat:iasp91             NaN   1308584   \n",
      "16                 FINL  -  2.19      locsat:iasp91             NaN   1308582   \n",
      "17                 FINL  -  2.01      locsat:iasp91            KLBR   1308597   \n",
      "18                 FINL  -  2.21      locsat:iasp91             TOO   1308383   \n",
      "19                 FINL  -  2.19      locsat:iasp91             NaN   1308581   \n",
      "20                 FINL  -  2.22      locsat:iasp91            KLBR   1308558   \n",
      "21                 FINL  -  2.92      locsat:iasp91            KLBR   1308374   \n",
      "22                 FINL  -  2.44      locsat:iasp91            MILA   1308295   \n",
      "23                 FINL  -  1.94      locsat:iasp91             NaN   1308277   \n",
      "24                 FINL  -  2.62      locsat:iasp91             NaN   1308268   \n",
      "25                 FINL  -  1.97      locsat:iasp91             YNG   1308269   \n",
      "26                 FINL  -  1.84      locsat:iasp91             NaN   1308265   \n",
      "27                 FINL  -  2.49      locsat:iasp91             NaN   1307686   \n",
      "28                 FINL  -  2.07      locsat:iasp91            KLBR   1308262   \n",
      "29                 FINL  -  1.87      locsat:iasp91            KLBR   1307247   \n",
      "...                 ... ..   ...                ...             ...       ...   \n",
      "1158               FINL  -  1.83      locsat:iasp91            KLBR   1020007   \n",
      "1159               FINL  -  2.14      locsat:iasp91            PTPS   1020006   \n",
      "1160               FINL  -  2.07      locsat:iasp91             HTT   1019974   \n",
      "1161               FINL  -  2.16      locsat:iasp91             NaN   1018890   \n",
      "1162               FINL  -  2.27      locsat:iasp91            NAPP   1018889   \n",
      "1163               FINL  -  2.43      locsat:iasp91            MILA   1018477   \n",
      "1164               FINL  -  2.42      locsat:iasp91             NaN   1018446   \n",
      "1165               FINL  -  1.72      locsat:iasp91             NaN   1018150   \n",
      "1166               FINL  -     2      locsat:iasp91            BBOO   1018145   \n",
      "1167               FINL  -   2.1      locsat:iasp91            BBOO   1018140   \n",
      "1168               FINL  -  2.24      locsat:iasp91             NaN   1017648   \n",
      "1169               FINL  -  2.41      locsat:iasp91            KLBR   1017368   \n",
      "1170               FINL  -  1.95      locsat:iasp91             NaN   1017355   \n",
      "1171               FINL  -  1.88      locsat:iasp91            KLBR   1016363   \n",
      "1172               FINL  -  2.08      locsat:iasp91            KLBR   1016368   \n",
      "1173               FINL  -  1.95      locsat:iasp91             NaN   1016269   \n",
      "1174               FINL  -  1.83      locsat:iasp91             NaN   1016268   \n",
      "1175               FINL  -  2.79      locsat:iasp91             NaN   1015869   \n",
      "1176               FINL  -  2.48      locsat:iasp91             NaN   1015862   \n",
      "1177               FINL  -  2.42      locsat:iasp91             NaN   1015319   \n",
      "1178               FINL  -  2.86      locsat:iasp91             NaN   1015516   \n",
      "1179               FINL  -   2.8      locsat:iasp91            NWAO   1015165   \n",
      "1180               FINL  -  2.65      locsat:iasp91             NaN   1015164   \n",
      "1181               FINL  -  2.73      locsat:iasp91             NaN   1015163   \n",
      "1182               FINL  -  2.31      locsat:iasp91            NAPP   1014806   \n",
      "1183               FINL  -  2.73      locsat:iasp91             NaN   1014355   \n",
      "1184               FINL  -  2.31      locsat:iasp91             NaN   1014354   \n",
      "1185               FINL  -  1.73      locsat:iasp91             NaN   1014943   \n",
      "1186               FINL  -  2.22      locsat:iasp91            BLDU   1014941   \n",
      "1187               FINL  -  2.57      locsat:iasp91            LCRK   1013037   \n",
      "\n",
      "      ORIGIN ID  \n",
      "0       1489823  \n",
      "1       1489310  \n",
      "2       1489313  \n",
      "3       1489308  \n",
      "4       1489214  \n",
      "5       1489176  \n",
      "6       1487366  \n",
      "7       1487066  \n",
      "8       1487044  \n",
      "9       1486711  \n",
      "10      1486682  \n",
      "11      1486439  \n",
      "12      1486436  \n",
      "13      1486426  \n",
      "14      1486424  \n",
      "15      1486422  \n",
      "16      1486416  \n",
      "17      1486452  \n",
      "18      1486351  \n",
      "19      1486412  \n",
      "20      1486388  \n",
      "21      1486366  \n",
      "22      1486095  \n",
      "23      1485995  \n",
      "24      1485975  \n",
      "25      1485978  \n",
      "26      1485963  \n",
      "27      1485962  \n",
      "28      1485948  \n",
      "29      1484912  \n",
      "...         ...  \n",
      "1158    1181474  \n",
      "1159    1181473  \n",
      "1160    1181440  \n",
      "1161    1180342  \n",
      "1162    1180340  \n",
      "1163    1179923  \n",
      "1164    1179898  \n",
      "1165    1179580  \n",
      "1166    1179573  \n",
      "1167    1179568  \n",
      "1168    1179070  \n",
      "1169    1178763  \n",
      "1170    1178750  \n",
      "1171    1177756  \n",
      "1172    1177761  \n",
      "1173    1177638  \n",
      "1174    1177637  \n",
      "1175    1177635  \n",
      "1176    1177630  \n",
      "1177    1176846  \n",
      "1178    1176840  \n",
      "1179    1176485  \n",
      "1180    1176482  \n",
      "1181    1176479  \n",
      "1182    1176284  \n",
      "1183    1176174  \n",
      "1184    1176157  \n",
      "1185    1176232  \n",
      "1186    1176229  \n",
      "1187    1174508  \n",
      "\n",
      "[1188 rows x 16 columns]\n"
     ]
    }
   ],
   "source": [
    "print df"
   ]
  },
  {
   "cell_type": "markdown",
   "metadata": {},
   "source": [
    "Print the first row of the dataframe."
   ]
  },
  {
   "cell_type": "code",
   "execution_count": 4,
   "metadata": {
    "collapsed": false
   },
   "outputs": [
    {
     "name": "stdout",
     "output_type": "stream",
     "text": [
      "   Magnitude    UTC Date  UTC Time Sydney Date Sydney Time  Latitude  \\\n",
      "0        2.4  2017-06-14  11:30:08  2017-06-14    21:30:08   -31.348   \n",
      "\n",
      "   Longitude Approximate location  Depth (km) Solution finalised Mb    ML  \\\n",
      "0    138.621    S of Blinman, SA.        10.0               FINL  -  2.41   \n",
      "\n",
      "  Location algorithm Nearest station  EVENT ID  ORIGIN ID  \n",
      "0      locsat:iasp91            NAPP   1311775    1489823  \n"
     ]
    }
   ],
   "source": [
    "print df.head(1)"
   ]
  },
  {
   "cell_type": "markdown",
   "metadata": {},
   "source": [
    "Create a matplotlib scatterplot of the dataframe."
   ]
  },
  {
   "cell_type": "code",
   "execution_count": 5,
   "metadata": {
    "collapsed": false
   },
   "outputs": [],
   "source": [
    "b = plt.scatter(df.Latitude, df.Longitude, s=df.Magnitude)"
   ]
  },
  {
   "cell_type": "markdown",
   "metadata": {},
   "source": [
    "Show the scatter plot."
   ]
  },
  {
   "cell_type": "code",
   "execution_count": 6,
   "metadata": {
    "collapsed": false
   },
   "outputs": [
    {
     "data": {
      "image/png": "[encoded data removed]",
      "text/plain": [
       "<matplotlib.figure.Figure at 0xa6bd668>"
      ]
     },
     "metadata": {},
     "output_type": "display_data"
    }
   ],
   "source": [
    "plt.show(b)"
   ]
  },
  {
   "cell_type": "markdown",
   "metadata": {},
   "source": [
    "Use the pandas describe function to view statistics on the magnitude attribute."
   ]
  },
  {
   "cell_type": "code",
   "execution_count": 7,
   "metadata": {
    "collapsed": false
   },
   "outputs": [
    {
     "data": {
      "text/plain": [
       "count    1188.000000\n",
       "mean        2.537795\n",
       "std         0.631704\n",
       "min         1.100000\n",
       "25%         2.100000\n",
       "50%         2.400000\n",
       "75%         2.900000\n",
       "max         6.100000\n",
       "Name: Magnitude, dtype: float64"
      ]
     },
     "execution_count": 7,
     "metadata": {},
     "output_type": "execute_result"
    }
   ],
   "source": [
    "df.Magnitude.describe()"
   ]
  },
  {
   "cell_type": "markdown",
   "metadata": {},
   "source": [
    "Create a subset of the dataframe, including only the BIGGER earthquakes, with a magnitude greater than 5. \n",
    "Print this new dataframe."
   ]
  },
  {
   "cell_type": "code",
   "execution_count": 8,
   "metadata": {
    "collapsed": false,
    "scrolled": true
   },
   "outputs": [
    {
     "name": "stdout",
     "output_type": "stream",
     "text": [
      "      Magnitude    UTC Date  UTC Time Sydney Date Sydney Time  Latitude  \\\n",
      "374         5.1  2016-11-06  09:54:31  2016-11-06    20:54:31   -19.106   \n",
      "569         5.8  2016-08-18  04:30:07  2016-08-18    14:30:07   -19.768   \n",
      "671         5.6  2016-07-08  09:40:50  2016-07-08    19:40:50   -32.458   \n",
      "742         5.1  2016-05-28  16:38:44  2016-05-29    02:38:44   -32.460   \n",
      "811         6.1  2016-05-20  18:14:02  2016-05-21    04:14:02   -25.579   \n",
      "1118        5.1  2015-08-01  04:46:26  2015-08-01    14:46:26   -25.376   \n",
      "1120        5.3  2015-08-01  03:38:45  2015-08-01    13:38:45   -25.383   \n",
      "1127        5.4  2015-07-29  23:41:43  2015-07-30    09:41:43   -25.353   \n",
      "\n",
      "      Longitude                               Approximate location  \\\n",
      "374     127.987           SE of Hall's Creek, WA. (Reported felt).   \n",
      "569     148.863        Offshore NE of Bowen, QLD. (Reported felt).   \n",
      "671     122.511                E of Norseman, WA. (Reported felt).   \n",
      "742     122.438               SE of Norseman, WA. (Reported felt).   \n",
      "811     129.832             Petermann Ranges, NT. (Reported felt).   \n",
      "1118    154.274                  Offshore E of Fraser Island, QLD.   \n",
      "1120    154.433  Offshore E of Fraser Island, QLD (GA revised 3...   \n",
      "1127    154.411  Offshore E of Fraser Island, QLD (GA revised 3...   \n",
      "\n",
      "      Depth (km) Solution finalised    Mb    ML Location algorithm  \\\n",
      "374         10.0               FINL     -  5.07            naloc3d   \n",
      "569          0.0               FINL     -     -      locsat:iasp91   \n",
      "671          0.0               FINL     -  5.59            naloc3d   \n",
      "742          0.0               FINL     -   5.1            naloc3d   \n",
      "811          0.0               FINL     -  6.14      locsat:iasp91   \n",
      "1118        30.0               FINL  5.11     -      locsat:iasp91   \n",
      "1120        13.0               FINL     -     -      locsat:iasp91   \n",
      "1127        13.0               FINL     -  5.28      locsat:iasp91   \n",
      "\n",
      "     Nearest station  EVENT ID  ORIGIN ID  \n",
      "374             KNRA   1226299    1399009  \n",
      "569             TV1H   1184258    1355082  \n",
      "671             KLBR   1168321    1337714  \n",
      "742             KLBR   1151183    1319880  \n",
      "811             WRKA   1148261    1316703  \n",
      "1118            BN1H   1027615    1190110  \n",
      "1120             NaN   1027577    1190036  \n",
      "1127             NaN   1026980    1188775  \n"
     ]
    }
   ],
   "source": [
    "big_ones = df[df.Magnitude > 5]\n",
    "print big_ones"
   ]
  },
  {
   "cell_type": "code",
   "execution_count": 9,
   "metadata": {
    "collapsed": false
   },
   "outputs": [],
   "source": [
    "big_ones_plot = plt.scatter(big_ones.Latitude, big_ones.Longitude, s=big_ones.Magnitude)"
   ]
  },
  {
   "cell_type": "code",
   "execution_count": 10,
   "metadata": {
    "collapsed": false
   },
   "outputs": [
    {
     "data": {
      "image/png": "[encoded data removed]",
      "text/plain": [
       "<matplotlib.figure.Figure at 0xa7077f0>"
      ]
     },
     "metadata": {},
     "output_type": "display_data"
    }
   ],
   "source": [
    "plt.show()"
   ]
  },
  {
   "cell_type": "markdown",
   "metadata": {},
   "source": [
    "hmm could probably use a basemap? Check out Matplotlib's basemap tookit:\n",
    "https://matplotlib.org/basemap/users/index.html"
   ]
  },
  {
   "cell_type": "code",
   "execution_count": null,
   "metadata": {
    "collapsed": true
   },
   "outputs": [],
   "source": []
  }
 ],
 "metadata": {
  "kernelspec": {
   "display_name": "Python 2",
   "language": "python",
   "name": "python2"
  },
  "language_info": {
   "codemirror_mode": {
    "name": "ipython",
    "version": 2
   },
   "file_extension": ".py",
   "mimetype": "text/x-python",
   "name": "python",
   "nbconvert_exporter": "python",
   "pygments_lexer": "ipython2",
   "version": "2.7.13"
  }
 },
 "nbformat": 4,
 "nbformat_minor": 2
}
